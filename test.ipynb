{
 "cells": [
  {
   "cell_type": "code",
   "execution_count": 1,
   "metadata": {
    "collapsed": true,
    "pycharm": {
     "name": "#%%\n"
    }
   },
   "outputs": [
    {
     "name": "stderr",
     "output_type": "stream",
     "text": [
      "/mnt/backup/ml/audio/venv/lib/python3.8/site-packages/torchaudio/backend/utils.py:53: UserWarning: \"sox\" backend is being deprecated. The default backend will be changed to \"sox_io\" backend in 0.8.0 and \"sox\" backend will be removed in 0.9.0. Please migrate to \"sox_io\" backend. Please refer to https://github.com/pytorch/audio/issues/903 for the detail.\n",
      "  warnings.warn(\n"
     ]
    }
   ],
   "source": [
    "from train import train_encoder\n",
    "import torch\n",
    "from dataset import AudioSamplePairDataset\n",
    "from train import transform_sample"
   ]
  },
  {
   "cell_type": "code",
   "execution_count": 2,
   "outputs": [
    {
     "name": "stdout",
     "output_type": "stream",
     "text": [
      "----------------------------------------------------------------\n",
      "        Layer (type)               Output Shape         Param #\n",
      "================================================================\n",
      "            Conv2d-1            [-1, 2, 64, 32]               8\n",
      "       BatchNorm2d-2            [-1, 2, 64, 32]               4\n",
      "               ELU-3            [-1, 2, 64, 32]               0\n",
      "            Conv2d-4            [-1, 4, 32, 32]              28\n",
      "       BatchNorm2d-5            [-1, 4, 32, 32]               8\n",
      "               ELU-6            [-1, 4, 32, 32]               0\n",
      "            Conv2d-7            [-1, 8, 32, 16]             104\n",
      "       BatchNorm2d-8            [-1, 8, 32, 16]              16\n",
      "               ELU-9            [-1, 8, 32, 16]               0\n",
      "           Conv2d-10           [-1, 16, 16, 16]             400\n",
      "      BatchNorm2d-11           [-1, 16, 16, 16]              32\n",
      "              ELU-12           [-1, 16, 16, 16]               0\n",
      "           Conv2d-13            [-1, 32, 16, 8]           1,568\n",
      "      BatchNorm2d-14            [-1, 32, 16, 8]              64\n",
      "              ELU-15            [-1, 32, 16, 8]               0\n",
      "           Conv2d-16             [-1, 64, 8, 8]           6,208\n",
      "      BatchNorm2d-17             [-1, 64, 8, 8]             128\n",
      "              ELU-18             [-1, 64, 8, 8]               0\n",
      "           Conv2d-19            [-1, 128, 8, 4]          24,704\n",
      "      BatchNorm2d-20            [-1, 128, 8, 4]             256\n",
      "              ELU-21            [-1, 128, 8, 4]               0\n",
      "           Conv2d-22            [-1, 256, 4, 4]          98,560\n",
      "      BatchNorm2d-23            [-1, 256, 4, 4]             512\n",
      "              ELU-24            [-1, 256, 4, 4]               0\n",
      "           Conv2d-25            [-1, 512, 4, 2]         393,728\n",
      "      BatchNorm2d-26            [-1, 512, 4, 2]           1,024\n",
      "              ELU-27            [-1, 512, 4, 2]               0\n",
      "           Conv2d-28           [-1, 1024, 2, 2]       1,573,888\n",
      "      BatchNorm2d-29           [-1, 1024, 2, 2]           2,048\n",
      "              ELU-30           [-1, 1024, 2, 2]               0\n",
      "AdaptiveAvgPool2d-31           [-1, 1024, 1, 1]               0\n",
      "          Flatten-32                 [-1, 1024]               0\n",
      "           Linear-33                   [-1, 10]             170\n",
      "      BatchNorm1d-34                   [-1, 10]              20\n",
      "              ELU-35                   [-1, 10]               0\n",
      "           Linear-36                    [-1, 1]              11\n",
      "           Linear-37                   [-1, 10]             170\n",
      "      BatchNorm1d-38                   [-1, 10]              20\n",
      "              ELU-39                   [-1, 10]               0\n",
      "           Linear-40                    [-1, 1]              11\n",
      "           Linear-41                   [-1, 10]             170\n",
      "      BatchNorm1d-42                   [-1, 10]              20\n",
      "              ELU-43                   [-1, 10]               0\n",
      "           Linear-44                    [-1, 1]              11\n",
      "           Linear-45                   [-1, 10]             170\n",
      "      BatchNorm1d-46                   [-1, 10]              20\n",
      "              ELU-47                   [-1, 10]               0\n",
      "           Linear-48                    [-1, 1]              11\n",
      "           Linear-49                   [-1, 10]             170\n",
      "      BatchNorm1d-50                   [-1, 10]              20\n",
      "              ELU-51                   [-1, 10]               0\n",
      "           Linear-52                    [-1, 1]              11\n",
      "           Linear-53                   [-1, 10]             170\n",
      "      BatchNorm1d-54                   [-1, 10]              20\n",
      "              ELU-55                   [-1, 10]               0\n",
      "           Linear-56                    [-1, 1]              11\n",
      "           Linear-57                   [-1, 10]             170\n",
      "      BatchNorm1d-58                   [-1, 10]              20\n",
      "              ELU-59                   [-1, 10]               0\n",
      "           Linear-60                    [-1, 1]              11\n",
      "           Linear-61                   [-1, 10]             170\n",
      "      BatchNorm1d-62                   [-1, 10]              20\n",
      "              ELU-63                   [-1, 10]               0\n",
      "           Linear-64                    [-1, 1]              11\n",
      "           Linear-65                   [-1, 10]             170\n",
      "      BatchNorm1d-66                   [-1, 10]              20\n",
      "              ELU-67                   [-1, 10]               0\n",
      "           Linear-68                    [-1, 1]              11\n",
      "           Linear-69                   [-1, 10]             170\n",
      "      BatchNorm1d-70                   [-1, 10]              20\n",
      "              ELU-71                   [-1, 10]               0\n",
      "           Linear-72                    [-1, 1]              11\n",
      "           Linear-73                   [-1, 10]             170\n",
      "      BatchNorm1d-74                   [-1, 10]              20\n",
      "              ELU-75                   [-1, 10]               0\n",
      "           Linear-76                    [-1, 1]              11\n",
      "           Linear-77                   [-1, 10]             170\n",
      "      BatchNorm1d-78                   [-1, 10]              20\n",
      "              ELU-79                   [-1, 10]               0\n",
      "           Linear-80                    [-1, 1]              11\n",
      "           Linear-81                   [-1, 10]             170\n",
      "      BatchNorm1d-82                   [-1, 10]              20\n",
      "              ELU-83                   [-1, 10]               0\n",
      "           Linear-84                    [-1, 1]              11\n",
      "           Linear-85                   [-1, 10]             170\n",
      "      BatchNorm1d-86                   [-1, 10]              20\n",
      "              ELU-87                   [-1, 10]               0\n",
      "           Linear-88                    [-1, 1]              11\n",
      "           Linear-89                   [-1, 10]             170\n",
      "      BatchNorm1d-90                   [-1, 10]              20\n",
      "              ELU-91                   [-1, 10]               0\n",
      "           Linear-92                    [-1, 1]              11\n",
      "           Linear-93                   [-1, 10]             170\n",
      "      BatchNorm1d-94                   [-1, 10]              20\n",
      "              ELU-95                   [-1, 10]               0\n",
      "           Linear-96                    [-1, 1]              11\n",
      "           Linear-97                   [-1, 10]             170\n",
      "      BatchNorm1d-98                   [-1, 10]              20\n",
      "              ELU-99                   [-1, 10]               0\n",
      "          Linear-100                    [-1, 1]              11\n",
      "          Linear-101                   [-1, 10]             170\n",
      "     BatchNorm1d-102                   [-1, 10]              20\n",
      "             ELU-103                   [-1, 10]               0\n",
      "          Linear-104                    [-1, 1]              11\n",
      "          Linear-105                   [-1, 10]             170\n",
      "     BatchNorm1d-106                   [-1, 10]              20\n",
      "             ELU-107                   [-1, 10]               0\n",
      "          Linear-108                    [-1, 1]              11\n",
      "          Linear-109                   [-1, 10]             170\n",
      "     BatchNorm1d-110                   [-1, 10]              20\n",
      "             ELU-111                   [-1, 10]               0\n",
      "          Linear-112                    [-1, 1]              11\n",
      "          Linear-113                   [-1, 10]             170\n",
      "     BatchNorm1d-114                   [-1, 10]              20\n",
      "             ELU-115                   [-1, 10]               0\n",
      "          Linear-116                    [-1, 1]              11\n",
      "          Linear-117                   [-1, 10]             170\n",
      "     BatchNorm1d-118                   [-1, 10]              20\n",
      "             ELU-119                   [-1, 10]               0\n",
      "          Linear-120                    [-1, 1]              11\n",
      "          Linear-121                   [-1, 10]             170\n",
      "     BatchNorm1d-122                   [-1, 10]              20\n",
      "             ELU-123                   [-1, 10]               0\n",
      "          Linear-124                    [-1, 1]              11\n",
      "          Linear-125                   [-1, 10]             170\n",
      "     BatchNorm1d-126                   [-1, 10]              20\n",
      "             ELU-127                   [-1, 10]               0\n",
      "          Linear-128                    [-1, 1]              11\n",
      "          Linear-129                   [-1, 10]             170\n",
      "     BatchNorm1d-130                   [-1, 10]              20\n",
      "             ELU-131                   [-1, 10]               0\n",
      "          Linear-132                    [-1, 1]              11\n",
      "          Linear-133                   [-1, 10]             170\n",
      "     BatchNorm1d-134                   [-1, 10]              20\n",
      "             ELU-135                   [-1, 10]               0\n",
      "          Linear-136                    [-1, 1]              11\n",
      "          Linear-137                   [-1, 10]             170\n",
      "     BatchNorm1d-138                   [-1, 10]              20\n",
      "             ELU-139                   [-1, 10]               0\n",
      "          Linear-140                    [-1, 1]              11\n",
      "          Linear-141                   [-1, 10]             170\n",
      "     BatchNorm1d-142                   [-1, 10]              20\n",
      "             ELU-143                   [-1, 10]               0\n",
      "          Linear-144                    [-1, 1]              11\n",
      "          Linear-145                   [-1, 10]             170\n",
      "     BatchNorm1d-146                   [-1, 10]              20\n",
      "             ELU-147                   [-1, 10]               0\n",
      "          Linear-148                    [-1, 1]              11\n",
      "          Linear-149                   [-1, 10]             170\n",
      "     BatchNorm1d-150                   [-1, 10]              20\n",
      "             ELU-151                   [-1, 10]               0\n",
      "          Linear-152                    [-1, 1]              11\n",
      "          Linear-153                   [-1, 10]             170\n",
      "     BatchNorm1d-154                   [-1, 10]              20\n",
      "             ELU-155                   [-1, 10]               0\n",
      "          Linear-156                    [-1, 1]              11\n",
      "          Linear-157                   [-1, 10]             170\n",
      "     BatchNorm1d-158                   [-1, 10]              20\n",
      "             ELU-159                   [-1, 10]               0\n",
      "          Linear-160                    [-1, 1]              11\n",
      "          Linear-161                   [-1, 10]             170\n",
      "     BatchNorm1d-162                   [-1, 10]              20\n",
      "             ELU-163                   [-1, 10]               0\n",
      "          Linear-164                    [-1, 1]              11\n",
      "          Linear-165                   [-1, 10]             170\n",
      "     BatchNorm1d-166                   [-1, 10]              20\n",
      "             ELU-167                   [-1, 10]               0\n",
      "          Linear-168                    [-1, 1]              11\n",
      "          Linear-169                   [-1, 10]             170\n",
      "     BatchNorm1d-170                   [-1, 10]              20\n",
      "             ELU-171                   [-1, 10]               0\n",
      "          Linear-172                    [-1, 1]              11\n",
      "          Linear-173                   [-1, 10]             170\n",
      "     BatchNorm1d-174                   [-1, 10]              20\n",
      "             ELU-175                   [-1, 10]               0\n",
      "          Linear-176                    [-1, 1]              11\n",
      "          Linear-177                   [-1, 10]             170\n",
      "     BatchNorm1d-178                   [-1, 10]              20\n",
      "             ELU-179                   [-1, 10]               0\n",
      "          Linear-180                    [-1, 1]              11\n",
      "          Linear-181                   [-1, 10]             170\n",
      "     BatchNorm1d-182                   [-1, 10]              20\n",
      "             ELU-183                   [-1, 10]               0\n",
      "          Linear-184                    [-1, 1]              11\n",
      "          Linear-185                   [-1, 10]             170\n",
      "     BatchNorm1d-186                   [-1, 10]              20\n",
      "             ELU-187                   [-1, 10]               0\n",
      "          Linear-188                    [-1, 1]              11\n",
      "          Linear-189                   [-1, 10]             170\n",
      "     BatchNorm1d-190                   [-1, 10]              20\n",
      "             ELU-191                   [-1, 10]               0\n",
      "          Linear-192                    [-1, 1]              11\n",
      "          Linear-193                   [-1, 10]             170\n",
      "     BatchNorm1d-194                   [-1, 10]              20\n",
      "             ELU-195                   [-1, 10]               0\n",
      "          Linear-196                    [-1, 1]              11\n",
      "          Linear-197                   [-1, 10]             170\n",
      "     BatchNorm1d-198                   [-1, 10]              20\n",
      "             ELU-199                   [-1, 10]               0\n",
      "          Linear-200                    [-1, 1]              11\n",
      "          Linear-201                   [-1, 10]             170\n",
      "     BatchNorm1d-202                   [-1, 10]              20\n",
      "             ELU-203                   [-1, 10]               0\n",
      "          Linear-204                    [-1, 1]              11\n",
      "          Linear-205                   [-1, 10]             170\n",
      "     BatchNorm1d-206                   [-1, 10]              20\n",
      "             ELU-207                   [-1, 10]               0\n",
      "          Linear-208                    [-1, 1]              11\n",
      "          Linear-209                   [-1, 10]             170\n",
      "     BatchNorm1d-210                   [-1, 10]              20\n",
      "             ELU-211                   [-1, 10]               0\n",
      "          Linear-212                    [-1, 1]              11\n",
      "          Linear-213                   [-1, 10]             170\n",
      "     BatchNorm1d-214                   [-1, 10]              20\n",
      "             ELU-215                   [-1, 10]               0\n",
      "          Linear-216                    [-1, 1]              11\n",
      "          Linear-217                   [-1, 10]             170\n",
      "     BatchNorm1d-218                   [-1, 10]              20\n",
      "             ELU-219                   [-1, 10]               0\n",
      "          Linear-220                    [-1, 1]              11\n",
      "          Linear-221                   [-1, 10]             170\n",
      "     BatchNorm1d-222                   [-1, 10]              20\n",
      "             ELU-223                   [-1, 10]               0\n",
      "          Linear-224                    [-1, 1]              11\n",
      "          Linear-225                   [-1, 10]             170\n",
      "     BatchNorm1d-226                   [-1, 10]              20\n",
      "             ELU-227                   [-1, 10]               0\n",
      "          Linear-228                    [-1, 1]              11\n",
      "          Linear-229                   [-1, 10]             170\n",
      "     BatchNorm1d-230                   [-1, 10]              20\n",
      "             ELU-231                   [-1, 10]               0\n",
      "          Linear-232                    [-1, 1]              11\n",
      "          Linear-233                   [-1, 10]             170\n",
      "     BatchNorm1d-234                   [-1, 10]              20\n",
      "             ELU-235                   [-1, 10]               0\n",
      "          Linear-236                    [-1, 1]              11\n",
      "          Linear-237                   [-1, 10]             170\n",
      "     BatchNorm1d-238                   [-1, 10]              20\n",
      "             ELU-239                   [-1, 10]               0\n",
      "          Linear-240                    [-1, 1]              11\n",
      "          Linear-241                   [-1, 10]             170\n",
      "     BatchNorm1d-242                   [-1, 10]              20\n",
      "             ELU-243                   [-1, 10]               0\n",
      "          Linear-244                    [-1, 1]              11\n",
      "          Linear-245                   [-1, 10]             170\n",
      "     BatchNorm1d-246                   [-1, 10]              20\n",
      "             ELU-247                   [-1, 10]               0\n",
      "          Linear-248                    [-1, 1]              11\n",
      "          Linear-249                   [-1, 10]             170\n",
      "     BatchNorm1d-250                   [-1, 10]              20\n",
      "             ELU-251                   [-1, 10]               0\n",
      "          Linear-252                    [-1, 1]              11\n",
      "          Linear-253                   [-1, 10]             170\n",
      "     BatchNorm1d-254                   [-1, 10]              20\n",
      "             ELU-255                   [-1, 10]               0\n",
      "          Linear-256                    [-1, 1]              11\n",
      "          Linear-257                   [-1, 10]             170\n",
      "     BatchNorm1d-258                   [-1, 10]              20\n",
      "             ELU-259                   [-1, 10]               0\n",
      "          Linear-260                    [-1, 1]              11\n",
      "          Linear-261                   [-1, 10]             170\n",
      "     BatchNorm1d-262                   [-1, 10]              20\n",
      "             ELU-263                   [-1, 10]               0\n",
      "          Linear-264                    [-1, 1]              11\n",
      "          Linear-265                   [-1, 10]             170\n",
      "     BatchNorm1d-266                   [-1, 10]              20\n",
      "             ELU-267                   [-1, 10]               0\n",
      "          Linear-268                    [-1, 1]              11\n",
      "          Linear-269                   [-1, 10]             170\n",
      "     BatchNorm1d-270                   [-1, 10]              20\n",
      "             ELU-271                   [-1, 10]               0\n",
      "          Linear-272                    [-1, 1]              11\n",
      "          Linear-273                   [-1, 10]             170\n",
      "     BatchNorm1d-274                   [-1, 10]              20\n",
      "             ELU-275                   [-1, 10]               0\n",
      "          Linear-276                    [-1, 1]              11\n",
      "          Linear-277                   [-1, 10]             170\n",
      "     BatchNorm1d-278                   [-1, 10]              20\n",
      "             ELU-279                   [-1, 10]               0\n",
      "          Linear-280                    [-1, 1]              11\n",
      "          Linear-281                   [-1, 10]             170\n",
      "     BatchNorm1d-282                   [-1, 10]              20\n",
      "             ELU-283                   [-1, 10]               0\n",
      "          Linear-284                    [-1, 1]              11\n",
      "          Linear-285                   [-1, 10]             170\n",
      "     BatchNorm1d-286                   [-1, 10]              20\n",
      "             ELU-287                   [-1, 10]               0\n",
      "          Linear-288                    [-1, 1]              11\n",
      "================================================================\n",
      "Total params: 2,116,152\n",
      "Trainable params: 2,116,152\n",
      "Non-trainable params: 0\n",
      "----------------------------------------------------------------\n",
      "Input size (MB): 0.02\n",
      "Forward/backward pass size (MB): 0.97\n",
      "Params size (MB): 8.07\n",
      "Estimated Total Size (MB): 9.06\n",
      "----------------------------------------------------------------\n",
      "Learning started\n"
     ]
    },
    {
     "ename": "RuntimeError",
     "evalue": "Caught RuntimeError in DataLoader worker process 0.\nOriginal Traceback (most recent call last):\n  File \"/mnt/backup/ml/audio/venv/lib/python3.8/site-packages/torch/utils/data/_utils/worker.py\", line 198, in _worker_loop\n    data = fetcher.fetch(index)\n  File \"/mnt/backup/ml/audio/venv/lib/python3.8/site-packages/torch/utils/data/_utils/fetch.py\", line 44, in fetch\n    data = [self.dataset[idx] for idx in possibly_batched_index]\n  File \"/mnt/backup/ml/audio/venv/lib/python3.8/site-packages/torch/utils/data/_utils/fetch.py\", line 44, in <listcomp>\n    data = [self.dataset[idx] for idx in possibly_batched_index]\n  File \"/mnt/backup/ml/audio/dataset.py\", line 29, in __getitem__\n    return self.transform(val), self.transform(val), self.transform(contr_val)\n  File \"/mnt/backup/ml/audio/train.py\", line 32, in transform_sample\n    x = x.cuda()\n  File \"/mnt/backup/ml/audio/venv/lib/python3.8/site-packages/torch/cuda/__init__.py\", line 163, in _lazy_init\n    raise RuntimeError(\nRuntimeError: Cannot re-initialize CUDA in forked subprocess. To use CUDA with multiprocessing, you must use the 'spawn' start method\n",
     "output_type": "error",
     "traceback": [
      "\u001B[0;31m---------------------------------------------------------------------------\u001B[0m",
      "\u001B[0;31mRuntimeError\u001B[0m                              Traceback (most recent call last)",
      "\u001B[0;32m<ipython-input-2-5d2b2938448b>\u001B[0m in \u001B[0;36m<module>\u001B[0;34m\u001B[0m\n\u001B[0;32m----> 1\u001B[0;31m \u001B[0mencoder\u001B[0m \u001B[0;34m=\u001B[0m \u001B[0mtrain_encoder\u001B[0m\u001B[0;34m(\u001B[0m\u001B[0;34m)\u001B[0m\u001B[0;34m\u001B[0m\u001B[0;34m\u001B[0m\u001B[0m\n\u001B[0m\u001B[1;32m      2\u001B[0m \u001B[0;34m\u001B[0m\u001B[0m\n",
      "\u001B[0;32m/mnt/backup/ml/audio/train.py\u001B[0m in \u001B[0;36mtrain_encoder\u001B[0;34m()\u001B[0m\n\u001B[1;32m     59\u001B[0m     \u001B[0;32mfor\u001B[0m \u001B[0mepoch\u001B[0m \u001B[0;32min\u001B[0m \u001B[0mrange\u001B[0m\u001B[0;34m(\u001B[0m\u001B[0mepochs\u001B[0m\u001B[0;34m)\u001B[0m\u001B[0;34m:\u001B[0m\u001B[0;34m\u001B[0m\u001B[0;34m\u001B[0m\u001B[0m\n\u001B[1;32m     60\u001B[0m         \u001B[0mepoch_losses\u001B[0m \u001B[0;34m=\u001B[0m \u001B[0;34m[\u001B[0m\u001B[0;34m]\u001B[0m\u001B[0;34m\u001B[0m\u001B[0;34m\u001B[0m\u001B[0m\n\u001B[0;32m---> 61\u001B[0;31m         \u001B[0;32mfor\u001B[0m \u001B[0mstep\u001B[0m\u001B[0;34m,\u001B[0m \u001B[0;34m(\u001B[0m\u001B[0mx\u001B[0m\u001B[0;34m,\u001B[0m \u001B[0my_pos\u001B[0m\u001B[0;34m,\u001B[0m \u001B[0my_neg\u001B[0m\u001B[0;34m)\u001B[0m \u001B[0;32min\u001B[0m \u001B[0menumerate\u001B[0m\u001B[0;34m(\u001B[0m\u001B[0mtrain_loader\u001B[0m\u001B[0;34m)\u001B[0m\u001B[0;34m:\u001B[0m\u001B[0;34m\u001B[0m\u001B[0;34m\u001B[0m\u001B[0m\n\u001B[0m\u001B[1;32m     62\u001B[0m             \u001B[0mx\u001B[0m\u001B[0;34m,\u001B[0m \u001B[0my_pos\u001B[0m\u001B[0;34m,\u001B[0m \u001B[0my_neg\u001B[0m \u001B[0;34m=\u001B[0m \u001B[0mx\u001B[0m\u001B[0;34m.\u001B[0m\u001B[0mcuda\u001B[0m\u001B[0;34m(\u001B[0m\u001B[0;34m)\u001B[0m\u001B[0;34m,\u001B[0m \u001B[0my_pos\u001B[0m\u001B[0;34m.\u001B[0m\u001B[0mcuda\u001B[0m\u001B[0;34m(\u001B[0m\u001B[0;34m)\u001B[0m\u001B[0;34m,\u001B[0m \u001B[0my_neg\u001B[0m\u001B[0;34m.\u001B[0m\u001B[0mcuda\u001B[0m\u001B[0;34m(\u001B[0m\u001B[0;34m)\u001B[0m\u001B[0;34m\u001B[0m\u001B[0;34m\u001B[0m\u001B[0m\n\u001B[1;32m     63\u001B[0m             \u001B[0mx_enc\u001B[0m \u001B[0;34m=\u001B[0m \u001B[0mencoder\u001B[0m\u001B[0;34m(\u001B[0m\u001B[0mx\u001B[0m\u001B[0;34m)\u001B[0m\u001B[0;34m\u001B[0m\u001B[0;34m\u001B[0m\u001B[0m\n",
      "\u001B[0;32m/mnt/backup/ml/audio/venv/lib/python3.8/site-packages/torch/utils/data/dataloader.py\u001B[0m in \u001B[0;36m__next__\u001B[0;34m(self)\u001B[0m\n\u001B[1;32m    433\u001B[0m         \u001B[0;32mif\u001B[0m \u001B[0mself\u001B[0m\u001B[0;34m.\u001B[0m\u001B[0m_sampler_iter\u001B[0m \u001B[0;32mis\u001B[0m \u001B[0;32mNone\u001B[0m\u001B[0;34m:\u001B[0m\u001B[0;34m\u001B[0m\u001B[0;34m\u001B[0m\u001B[0m\n\u001B[1;32m    434\u001B[0m             \u001B[0mself\u001B[0m\u001B[0;34m.\u001B[0m\u001B[0m_reset\u001B[0m\u001B[0;34m(\u001B[0m\u001B[0;34m)\u001B[0m\u001B[0;34m\u001B[0m\u001B[0;34m\u001B[0m\u001B[0m\n\u001B[0;32m--> 435\u001B[0;31m         \u001B[0mdata\u001B[0m \u001B[0;34m=\u001B[0m \u001B[0mself\u001B[0m\u001B[0;34m.\u001B[0m\u001B[0m_next_data\u001B[0m\u001B[0;34m(\u001B[0m\u001B[0;34m)\u001B[0m\u001B[0;34m\u001B[0m\u001B[0;34m\u001B[0m\u001B[0m\n\u001B[0m\u001B[1;32m    436\u001B[0m         \u001B[0mself\u001B[0m\u001B[0;34m.\u001B[0m\u001B[0m_num_yielded\u001B[0m \u001B[0;34m+=\u001B[0m \u001B[0;36m1\u001B[0m\u001B[0;34m\u001B[0m\u001B[0;34m\u001B[0m\u001B[0m\n\u001B[1;32m    437\u001B[0m         \u001B[0;32mif\u001B[0m \u001B[0mself\u001B[0m\u001B[0;34m.\u001B[0m\u001B[0m_dataset_kind\u001B[0m \u001B[0;34m==\u001B[0m \u001B[0m_DatasetKind\u001B[0m\u001B[0;34m.\u001B[0m\u001B[0mIterable\u001B[0m \u001B[0;32mand\u001B[0m\u001B[0;31m \u001B[0m\u001B[0;31m\\\u001B[0m\u001B[0;34m\u001B[0m\u001B[0;34m\u001B[0m\u001B[0m\n",
      "\u001B[0;32m/mnt/backup/ml/audio/venv/lib/python3.8/site-packages/torch/utils/data/dataloader.py\u001B[0m in \u001B[0;36m_next_data\u001B[0;34m(self)\u001B[0m\n\u001B[1;32m   1083\u001B[0m             \u001B[0;32melse\u001B[0m\u001B[0;34m:\u001B[0m\u001B[0;34m\u001B[0m\u001B[0;34m\u001B[0m\u001B[0m\n\u001B[1;32m   1084\u001B[0m                 \u001B[0;32mdel\u001B[0m \u001B[0mself\u001B[0m\u001B[0;34m.\u001B[0m\u001B[0m_task_info\u001B[0m\u001B[0;34m[\u001B[0m\u001B[0midx\u001B[0m\u001B[0;34m]\u001B[0m\u001B[0;34m\u001B[0m\u001B[0;34m\u001B[0m\u001B[0m\n\u001B[0;32m-> 1085\u001B[0;31m                 \u001B[0;32mreturn\u001B[0m \u001B[0mself\u001B[0m\u001B[0;34m.\u001B[0m\u001B[0m_process_data\u001B[0m\u001B[0;34m(\u001B[0m\u001B[0mdata\u001B[0m\u001B[0;34m)\u001B[0m\u001B[0;34m\u001B[0m\u001B[0;34m\u001B[0m\u001B[0m\n\u001B[0m\u001B[1;32m   1086\u001B[0m \u001B[0;34m\u001B[0m\u001B[0m\n\u001B[1;32m   1087\u001B[0m     \u001B[0;32mdef\u001B[0m \u001B[0m_try_put_index\u001B[0m\u001B[0;34m(\u001B[0m\u001B[0mself\u001B[0m\u001B[0;34m)\u001B[0m\u001B[0;34m:\u001B[0m\u001B[0;34m\u001B[0m\u001B[0;34m\u001B[0m\u001B[0m\n",
      "\u001B[0;32m/mnt/backup/ml/audio/venv/lib/python3.8/site-packages/torch/utils/data/dataloader.py\u001B[0m in \u001B[0;36m_process_data\u001B[0;34m(self, data)\u001B[0m\n\u001B[1;32m   1109\u001B[0m         \u001B[0mself\u001B[0m\u001B[0;34m.\u001B[0m\u001B[0m_try_put_index\u001B[0m\u001B[0;34m(\u001B[0m\u001B[0;34m)\u001B[0m\u001B[0;34m\u001B[0m\u001B[0;34m\u001B[0m\u001B[0m\n\u001B[1;32m   1110\u001B[0m         \u001B[0;32mif\u001B[0m \u001B[0misinstance\u001B[0m\u001B[0;34m(\u001B[0m\u001B[0mdata\u001B[0m\u001B[0;34m,\u001B[0m \u001B[0mExceptionWrapper\u001B[0m\u001B[0;34m)\u001B[0m\u001B[0;34m:\u001B[0m\u001B[0;34m\u001B[0m\u001B[0;34m\u001B[0m\u001B[0m\n\u001B[0;32m-> 1111\u001B[0;31m             \u001B[0mdata\u001B[0m\u001B[0;34m.\u001B[0m\u001B[0mreraise\u001B[0m\u001B[0;34m(\u001B[0m\u001B[0;34m)\u001B[0m\u001B[0;34m\u001B[0m\u001B[0;34m\u001B[0m\u001B[0m\n\u001B[0m\u001B[1;32m   1112\u001B[0m         \u001B[0;32mreturn\u001B[0m \u001B[0mdata\u001B[0m\u001B[0;34m\u001B[0m\u001B[0;34m\u001B[0m\u001B[0m\n\u001B[1;32m   1113\u001B[0m \u001B[0;34m\u001B[0m\u001B[0m\n",
      "\u001B[0;32m/mnt/backup/ml/audio/venv/lib/python3.8/site-packages/torch/_utils.py\u001B[0m in \u001B[0;36mreraise\u001B[0;34m(self)\u001B[0m\n\u001B[1;32m    426\u001B[0m             \u001B[0;31m# have message field\u001B[0m\u001B[0;34m\u001B[0m\u001B[0;34m\u001B[0m\u001B[0;34m\u001B[0m\u001B[0m\n\u001B[1;32m    427\u001B[0m             \u001B[0;32mraise\u001B[0m \u001B[0mself\u001B[0m\u001B[0;34m.\u001B[0m\u001B[0mexc_type\u001B[0m\u001B[0;34m(\u001B[0m\u001B[0mmessage\u001B[0m\u001B[0;34m=\u001B[0m\u001B[0mmsg\u001B[0m\u001B[0;34m)\u001B[0m\u001B[0;34m\u001B[0m\u001B[0;34m\u001B[0m\u001B[0m\n\u001B[0;32m--> 428\u001B[0;31m         \u001B[0;32mraise\u001B[0m \u001B[0mself\u001B[0m\u001B[0;34m.\u001B[0m\u001B[0mexc_type\u001B[0m\u001B[0;34m(\u001B[0m\u001B[0mmsg\u001B[0m\u001B[0;34m)\u001B[0m\u001B[0;34m\u001B[0m\u001B[0;34m\u001B[0m\u001B[0m\n\u001B[0m\u001B[1;32m    429\u001B[0m \u001B[0;34m\u001B[0m\u001B[0m\n\u001B[1;32m    430\u001B[0m \u001B[0;34m\u001B[0m\u001B[0m\n",
      "\u001B[0;31mRuntimeError\u001B[0m: Caught RuntimeError in DataLoader worker process 0.\nOriginal Traceback (most recent call last):\n  File \"/mnt/backup/ml/audio/venv/lib/python3.8/site-packages/torch/utils/data/_utils/worker.py\", line 198, in _worker_loop\n    data = fetcher.fetch(index)\n  File \"/mnt/backup/ml/audio/venv/lib/python3.8/site-packages/torch/utils/data/_utils/fetch.py\", line 44, in fetch\n    data = [self.dataset[idx] for idx in possibly_batched_index]\n  File \"/mnt/backup/ml/audio/venv/lib/python3.8/site-packages/torch/utils/data/_utils/fetch.py\", line 44, in <listcomp>\n    data = [self.dataset[idx] for idx in possibly_batched_index]\n  File \"/mnt/backup/ml/audio/dataset.py\", line 29, in __getitem__\n    return self.transform(val), self.transform(val), self.transform(contr_val)\n  File \"/mnt/backup/ml/audio/train.py\", line 32, in transform_sample\n    x = x.cuda()\n  File \"/mnt/backup/ml/audio/venv/lib/python3.8/site-packages/torch/cuda/__init__.py\", line 163, in _lazy_init\n    raise RuntimeError(\nRuntimeError: Cannot re-initialize CUDA in forked subprocess. To use CUDA with multiprocessing, you must use the 'spawn' start method\n"
     ]
    }
   ],
   "source": [
    "encoder = train_encoder()"
   ],
   "metadata": {
    "collapsed": false,
    "pycharm": {
     "name": "#%%\n"
    }
   }
  },
  {
   "cell_type": "code",
   "execution_count": null,
   "outputs": [],
   "source": [
    "test_data = AudioSamplePairDataset(root_path='data/fma_small_samples', test=False, transform=transform_sample)"
   ],
   "metadata": {
    "collapsed": false,
    "pycharm": {
     "name": "#%%\n"
    }
   }
  },
  {
   "cell_type": "code",
   "execution_count": null,
   "outputs": [],
   "source": [
    "t = [test_data[i][0] for i in range(1000)]\n",
    "t_s = torch.stack(t)\n",
    "t_e = encoder(t_s.cuda()).cpu()"
   ],
   "metadata": {
    "collapsed": false,
    "pycharm": {
     "name": "#%%\n"
    }
   }
  },
  {
   "cell_type": "code",
   "execution_count": null,
   "outputs": [],
   "source": [
    "ok = 0\n",
    "for tested_idx in range(1000):\n",
    "    # tested_idx = 100\n",
    "    x = test_data[tested_idx][1]\n",
    "    x_s = x.unsqueeze(0)\n",
    "    x_e = encoder(x_s.cuda()).cpu()\n",
    "    dists = (x_e - t_e).abs().sum(dim=-1)\n",
    "    # print((x_e - t_e[tested_idx]).abs().sum(dim=-1))\n",
    "    top = torch.topk(dists, 20, largest=False)\n",
    "    # print(top)\n",
    "    if top.indices[0] == tested_idx:\n",
    "        # print('OK')\n",
    "        ok += 1\n",
    "    # else:\n",
    "    #     print('ERR')\n",
    "print(ok / 1000)"
   ],
   "metadata": {
    "collapsed": false,
    "pycharm": {
     "name": "#%%\n"
    }
   }
  },
  {
   "cell_type": "code",
   "execution_count": null,
   "outputs": [],
   "source": [
    "import IPython.display as ipd\n",
    "ipd.Audio(test_data[0][0].squeeze(0), rate=22050)"
   ],
   "metadata": {
    "collapsed": false,
    "pycharm": {
     "name": "#%%\n"
    }
   }
  },
  {
   "cell_type": "code",
   "execution_count": null,
   "outputs": [],
   "source": [],
   "metadata": {
    "collapsed": false,
    "pycharm": {
     "name": "#%%\n"
    }
   }
  },
  {
   "cell_type": "code",
   "execution_count": null,
   "outputs": [],
   "source": [],
   "metadata": {
    "collapsed": false,
    "pycharm": {
     "name": "#%%\n"
    }
   }
  },
  {
   "cell_type": "code",
   "execution_count": null,
   "outputs": [],
   "source": [
    "a = test_data[2][0]"
   ],
   "metadata": {
    "collapsed": false,
    "pycharm": {
     "name": "#%%\n"
    }
   }
  },
  {
   "cell_type": "code",
   "execution_count": null,
   "outputs": [],
   "source": [],
   "metadata": {
    "collapsed": false,
    "pycharm": {
     "name": "#%%\n"
    }
   }
  }
 ],
 "metadata": {
  "kernelspec": {
   "display_name": "Python 3",
   "language": "python",
   "name": "python3"
  },
  "language_info": {
   "codemirror_mode": {
    "name": "ipython",
    "version": 2
   },
   "file_extension": ".py",
   "mimetype": "text/x-python",
   "name": "python",
   "nbconvert_exporter": "python",
   "pygments_lexer": "ipython2",
   "version": "2.7.6"
  }
 },
 "nbformat": 4,
 "nbformat_minor": 0
}